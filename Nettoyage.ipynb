{
 "cells": [
  {
   "cell_type": "markdown",
   "metadata": {},
   "source": [
    "# Analyse Exploratoire"
   ]
  },
  {
   "cell_type": "markdown",
   "metadata": {},
   "source": [
    "### Import des modules"
   ]
  },
  {
   "cell_type": "code",
   "execution_count": 6,
   "metadata": {},
   "outputs": [],
   "source": [
    "import pandas as pd\n",
    "import matplotlib.pyplot as plt\n",
    "import seaborn as sns \n",
    "import numpy as np\n",
    "import joblib"
   ]
  },
  {
   "cell_type": "code",
   "execution_count": 7,
   "metadata": {},
   "outputs": [
    {
     "name": "stdout",
     "output_type": "stream",
     "text": [
      "<class 'pandas.core.frame.DataFrame'>\n",
      "RangeIndex: 1470 entries, 0 to 1469\n",
      "Data columns (total 37 columns):\n",
      " #   Column                                     Non-Null Count  Dtype   \n",
      "---  ------                                     --------------  -----   \n",
      " 0   id_employee                                1470 non-null   int64   \n",
      " 1   age                                        1470 non-null   int64   \n",
      " 2   genre                                      1470 non-null   object  \n",
      " 3   revenu_mensuel                             1470 non-null   int64   \n",
      " 4   statut_marital                             1470 non-null   object  \n",
      " 5   departement                                1470 non-null   object  \n",
      " 6   poste                                      1470 non-null   object  \n",
      " 7   nombre_experiences_precedentes             1470 non-null   int64   \n",
      " 8   nombre_heures_travailless                  1470 non-null   int64   \n",
      " 9   annee_experience_totale                    1470 non-null   int64   \n",
      " 10  annees_dans_l_entreprise                   1470 non-null   int64   \n",
      " 11  annees_dans_le_poste_actuel                1470 non-null   int64   \n",
      " 12  a_quitte_l_entreprise                      1470 non-null   int64   \n",
      " 13  nombre_participation_pee                   1470 non-null   int64   \n",
      " 14  nb_formations_suivies                      1470 non-null   int64   \n",
      " 15  nombre_employee_sous_responsabilite        1470 non-null   int64   \n",
      " 16  code_sondage                               1470 non-null   int64   \n",
      " 17  distance_domicile_travail                  1470 non-null   int64   \n",
      " 18  niveau_education                           1470 non-null   int64   \n",
      " 19  domaine_etude                              1470 non-null   object  \n",
      " 20  ayant_enfants                              1470 non-null   object  \n",
      " 21  frequence_deplacement                      1470 non-null   object  \n",
      " 22  annees_depuis_la_derniere_promotion        1470 non-null   int64   \n",
      " 23  annes_sous_responsable_actuel              1470 non-null   int64   \n",
      " 24  satisfaction_employee_environnement        1470 non-null   int64   \n",
      " 25  note_evaluation_precedente                 1470 non-null   int64   \n",
      " 26  niveau_hierarchique_poste                  1470 non-null   int64   \n",
      " 27  satisfaction_employee_nature_travail       1470 non-null   int64   \n",
      " 28  satisfaction_employee_equipe               1470 non-null   int64   \n",
      " 29  satisfaction_employee_equilibre_pro_perso  1470 non-null   int64   \n",
      " 30  eval_number                                1470 non-null   object  \n",
      " 31  note_evaluation_actuelle                   1470 non-null   int64   \n",
      " 32  heure_supplementaires                      1470 non-null   object  \n",
      " 33  augementation_salaire_precedente           1470 non-null   object  \n",
      " 34  tranche_distance                           1470 non-null   category\n",
      " 35  tranche_age                                1470 non-null   category\n",
      " 36  tranche_revenu                             1470 non-null   category\n",
      "dtypes: category(3), int64(24), object(10)\n",
      "memory usage: 395.0+ KB\n"
     ]
    }
   ],
   "source": [
    "df = joblib.load(\"df.joblib\")\n",
    "\n",
    "df.info()"
   ]
  },
  {
   "cell_type": "code",
   "execution_count": 8,
   "metadata": {},
   "outputs": [],
   "source": [
    "df['augementation_salaire_precedente'] = df['augementation_salaire_precedente'].apply(\n",
    "    lambda x: float(str(x).replace('%', ''))\n",
    ")\n"
   ]
  },
  {
   "cell_type": "code",
   "execution_count": 9,
   "metadata": {},
   "outputs": [
    {
     "name": "stdout",
     "output_type": "stream",
     "text": [
      "--- nombre_heures_travailless ---\n",
      "--- nombre_employee_sous_responsabilite ---\n",
      "--- ayant_enfants ---\n"
     ]
    }
   ],
   "source": [
    "# Voir le nombre colonne unique\n",
    "\n",
    "for col in df.columns:\n",
    "    if df[col].nunique() == 1:\n",
    "        print(f\"--- {col} ---\")\n"
   ]
  },
  {
   "cell_type": "code",
   "execution_count": 10,
   "metadata": {},
   "outputs": [
    {
     "data": {
      "text/plain": [
       "['df.joblib']"
      ]
     },
     "execution_count": 10,
     "metadata": {},
     "output_type": "execute_result"
    }
   ],
   "source": [
    "# Drop colonne innutiles\n",
    "\n",
    "cols_to_drop = [\n",
    "    'id_employee',\n",
    "    'nombre_heures_travailless',\n",
    "    'nombre_employee_sous_responsabilite',\n",
    "    'code_sondage',\n",
    "    'ayant_enfants',\n",
    "    'eval_number',\n",
    "    \"age\",\n",
    "    \"revenu_mensuel\",\n",
    "    \"distance_domicile_travail\"\n",
    "]\n",
    "\n",
    "df = df.drop(columns=cols_to_drop)\n",
    "\n",
    "joblib.dump(df, \"df.joblib\")"
   ]
  }
 ],
 "metadata": {
  "kernelspec": {
   "display_name": "identification-causes-attrition-esn-69fSIQnK-py3.12",
   "language": "python",
   "name": "python3"
  },
  "language_info": {
   "codemirror_mode": {
    "name": "ipython",
    "version": 3
   },
   "file_extension": ".py",
   "mimetype": "text/x-python",
   "name": "python",
   "nbconvert_exporter": "python",
   "pygments_lexer": "ipython3",
   "version": "3.12.3"
  }
 },
 "nbformat": 4,
 "nbformat_minor": 2
}
